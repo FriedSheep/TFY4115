{
 "cells": [
  {
   "cell_type": "markdown",
   "metadata": {},
   "source": [
    "# Labrapport med the crip gang Dyrskun, Maisern, Åtif og handy\n",
    "\n",
    "**Sammendrag**\n",
    "Crip\n",
    "\n",
    "**Introduksjon**\n",
    "Young blood\n",
    "\n",
    "**Teori**\n",
    "Dyrskun\n",
    "\n",
    "**Metode**\n",
    "Handy\n",
    "\n",
    "**Resultater**\n",
    "Åtif\n",
    "\n",
    "**Diskusjon**\n",
    "Maisern\n",
    "Litt diskutering om måleusikkerhet o usikkerhetsanalyse\n",
    "\n",
    "**Konklusjon**\n",
    "\n",
    "\n",
    "**Referanser**"
   ]
  },
  {
   "cell_type": "markdown",
   "metadata": {},
   "source": [
    "**Sammendrag**\n",
    "\n",
    "Her skriver vi noe sykt smart"
   ]
  },
  {
   "cell_type": "markdown",
   "metadata": {},
   "source": [
    "**Introduksjon**\n",
    "\n",
    "Forsøkets hensikt\n",
    "Settes i en historisk sammenheng?\n",
    "\n"
   ]
  },
  {
   "cell_type": "code",
   "execution_count": 8,
   "metadata": {},
   "outputs": [
    {
     "name": "stdout",
     "output_type": "stream",
     "text": [
      "Look at this dick 8===D\n",
      "fredrik har stor tiss, nam nam\n"
     ]
    }
   ],
   "source": [
    "\"\"\" Look at this graph \"\"\"\n",
    "# from ipynb.fs.full. import *\n",
    "print(\"Look at this dick 8===D\")\n",
    "print(\"fredrik har stor tiss, nam nam\")"
   ]
  },
  {
   "cell_type": "markdown",
   "metadata": {},
   "source": [
    "**Teori**"
   ]
  },
  {
   "cell_type": "markdown",
   "metadata": {},
   "source": []
  },
  {
   "cell_type": "markdown",
   "metadata": {},
   "source": [
    "**Referanser**\n",
    "\n"
   ]
  }
 ],
 "metadata": {
  "kernelspec": {
   "display_name": "Python 3.10.0 64-bit",
   "language": "python",
   "name": "python3"
  },
  "language_info": {
   "codemirror_mode": {
    "name": "ipython",
    "version": 3
   },
   "file_extension": ".py",
   "mimetype": "text/x-python",
   "name": "python",
   "nbconvert_exporter": "python",
   "pygments_lexer": "ipython3",
   "version": "3.10.0"
  },
  "orig_nbformat": 4,
  "vscode": {
   "interpreter": {
    "hash": "15f7fb6bfa40f6d98bec429272306fda6b1744d745c4cccbf28593f1f78abeba"
   }
  }
 },
 "nbformat": 4,
 "nbformat_minor": 2
}
