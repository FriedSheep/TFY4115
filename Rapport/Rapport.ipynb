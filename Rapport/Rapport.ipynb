{
 "cells": [
  {
   "cell_type": "code",
   "execution_count": null,
   "metadata": {},
   "outputs": [],
   "source": []
  },
  {
   "cell_type": "markdown",
   "metadata": {},
   "source": [
    "# Labrapport med the crip gang Dyrskun, Maisern, Åtif og handy\n",
    "\n",
    "**Sammendrag**\n",
    "\n",
    "**Introduksjon**\n",
    "\n",
    "**Teori**\n",
    "\n",
    "**Metode**\n",
    "\n",
    "**Resultater**\n",
    "\n",
    "**Diskusjon**\n",
    "Litt diskutering om måleusikkerhet o usikkerhetsanalyse\n",
    "\n",
    "**Konklusjon**\n",
    "\n",
    "**Referanser**"
   ]
  }
 ],
 "metadata": {
  "kernelspec": {
   "display_name": "Python 3.9.13 64-bit (microsoft store)",
   "language": "python",
   "name": "python3"
  },
  "language_info": {
   "name": "python",
   "version": "3.9.13"
  },
  "orig_nbformat": 4,
  "vscode": {
   "interpreter": {
    "hash": "dce332b2346b3f79c35e5a70667352c10190e884885f360c210bc68feba5fac6"
   }
  }
 },
 "nbformat": 4,
 "nbformat_minor": 2
}
