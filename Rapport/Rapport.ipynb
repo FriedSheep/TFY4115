{
 "cells": [
  {
   "cell_type": "markdown",
   "metadata": {},
   "source": [
    "# Labrapport med the crip gang Dyrskun, Maisern, Åtif og handy\n",
    "\n",
    "**Sammendrag**\n",
    "Crip\n",
    "\n",
    "**Introduksjon**\n",
    "Young blood\n",
    "\n",
    "**Teori**\n",
    "Dyrskun\n",
    "\n",
    "**Metode**\n",
    "Handy\n",
    "\n",
    "**Resultater**\n",
    "Åtif\n",
    "\n",
    "**Diskusjon**\n",
    "Maisern\n",
    "Litt diskutering om måleusikkerhet o usikkerhetsanalyse\n",
    "\n",
    "**Konklusjon**\n",
    "\n",
    "\n",
    "**Referanser**"
   ]
  },
  {
   "cell_type": "markdown",
   "metadata": {},
   "source": [
    "**Sammendrag**\n",
    "\n",
    "Her skriver vi noe sykt smart"
   ]
  },
  {
   "cell_type": "markdown",
   "metadata": {},
   "source": [
    "**Introduksjon**\n",
    "\n",
    "Forsøkets hensikt\n",
    "Settes i en historisk sammenheng?\n",
    "\n"
   ]
  },
  {
   "cell_type": "code",
   "execution_count": 1,
   "metadata": {},
   "outputs": [
    {
     "name": "stdout",
     "output_type": "stream",
     "text": [
      "Look at this dick 8===D\n",
      "fredrik har stor tiss, nam nam\n"
     ]
    }
   ],
   "source": [
    "\"\"\" Look at this graph \"\"\"\n",
    "# from ipynb.fs.full. import *\n",
    "print(\"Look at this dick 8===D\")\n",
    "print(\"fredrik har stor tiss, nam nam\")"
   ]
  },
  {
   "cell_type": "markdown",
   "metadata": {},
   "source": [
    "**Teori**"
   ]
  },
  {
   "cell_type": "markdown",
   "metadata": {
    "vscode": {
     "languageId": "latex"
    }
   },
   "source": [
    "Den totale mekaniske energien for kula er bevart: $E = K + U$, der $K$ er kinetisk energi, og $U$ er potensiell energi. Total kinetisk energi, gitt at kula ruller rent, er beskrevet av:\n",
    "\\begin{equation}\n",
    "    K = \\frac{1}{2}Mv² + \\frac{1}{2}cMv² = \\frac{(1 + c)Mv²}{2},  \\tag{1}\n",
    "\\end{equation}\n",
    "der $c = \\frac{2}{5}$; $M$ er kulas masse; $R$ er kulas radius, altså avstanden mellom CM (massepunktet) og kontaktpunktet mellom kula og banen; og $v$ er kulas hastighet. \n",
    "Den potensielle energien til kula er gitt av:\n",
    "\\begin{equation}\n",
    "     U = Mgy(x),    \\tag{2}\n",
    "\\end{equation}\n",
    "der $g$ er tyngdeakselerasjonen og $y(x)$ er baneformen som funksjon av x. Ved energibevarelse får vi da at hastigheten til kula er gitt av:\n",
    "\\begin{equation}\n",
    "     v(x) = \\sqrt{\\frac{10g\\Delta y(x)}{7}}, \\tag{3}\n",
    "\\end{equation}\n",
    "der $\\Delta y(x)=y_0 - y(x)$, altså kulas fall fra $y_0$ til en vilkårlig høyde $y(x)$. Videre er hastigheten i x-retning  gitt av:\n",
    "\\begin{equation}\n",
    "     v_x = cos(\\beta),   \\tag{4}\n",
    "\\end{equation}\n",
    "der $\\beta = arctan(dy/dx)$ er helningsvinkelen til banen i x. \n",
    "Ved energibevarelse og $dt = \\frac{dx}{v_x}$ kan tidsutviklingen regnes ut av:\n",
    "\\begin{equation}\n",
    "     \\Delta t_n = \\frac{\\Delta x_n}{\\langle v_x \\rangle _n} = \\frac{2\\Delta x_n}{v_{x,n-1} + v_{x,n}},   \\tag{5}\n",
    "\\end{equation}\n",
    "der $\\langle v_x \\rangle _n$ er gjennomsnittshastigheten i x-retning på intervall $n$, og $\\Delta x_n = x_n - x_{n-1}$ er ett konstant steg. "
   ]
  },
  {
   "cell_type": "markdown",
   "metadata": {},
   "source": [
    "<img src=\"tegning_fysikkRapport4.png\"  height=\"250px\">\n",
    "\n"
   ]
  },
  {
   "cell_type": "markdown",
   "metadata": {},
   "source": [
    "Vedlagt er en tegning med krefter over når ballen ruller nedover, der $f$ er friksjonskraften, $G$ er tyngeakselerasjonen, $N$ er normalkraften, $a$ er akselerasjonen og $a_{⊥}$ er sentripentalakselerasjonen. "
   ]
  },
  {
   "cell_type": "markdown",
   "metadata": {},
   "source": [
    "**Referanser**\n",
    "\n"
   ]
  }
 ],
 "metadata": {
  "kernelspec": {
   "display_name": "Python 3.10.7 64-bit",
   "language": "python",
   "name": "python3"
  },
  "language_info": {
   "codemirror_mode": {
    "name": "ipython",
    "version": 3
   },
   "file_extension": ".py",
   "mimetype": "text/x-python",
   "name": "python",
   "nbconvert_exporter": "python",
   "pygments_lexer": "ipython3",
   "version": "3.10.7"
  },
  "orig_nbformat": 4,
  "vscode": {
   "interpreter": {
    "hash": "c8c70a8637f7c8113a84788a6e4006dd8d42e9073be60410609cda7499141726"
   }
  }
 },
 "nbformat": 4,
 "nbformat_minor": 2
}
