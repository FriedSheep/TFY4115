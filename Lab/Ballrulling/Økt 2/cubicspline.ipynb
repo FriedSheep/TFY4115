{
 "cells": [
  {
   "cell_type": "markdown",
   "metadata": {
    "id": "crY6YB7FlBIN"
   },
   "source": [
    "# Fysikklab, TFY4104, 4107 og 4115 våren 2022.\n",
    "\n",
    "Følgende notebook genererer en rullebane basert på koordinatene til åtte festepunkter med tilfeldig tilegnede høyder. \n",
    "Baneformen $y(x)$ beregnes med __CubicSpline__ fra interpolate-biblioteket i SciPy. En naturlig kubisk spline $S$ er et stykkevis kubisk polynom på et intervall $[a,b]$, slik at $S$, $S' = \\frac{dS}{dx}$ og $S'' = \\frac{d^2S}{dx^2}$ er kontinuerlige på hele intervallet, og $S''(a) = S''(b) = 0$.    \n",
    "\n",
    "<par>Vi skal beregne ulike fysiske størrelser for en kule som ruller gjennom den genererte bane. Da vi kjenner kulens bane (vi antar at den er lik baneformen $y(x)$), skal det gå som en lek :-) Som vi vil se, er høydekoordinatene tilfeldig generert innenfor visse kriterier som skal forsikre at <li> Kula kommer seg gjennom hele banen, og </li> <li> Banen aldri har for stor helningsvinkel. </li>\n",
    "    \n",
    "<par> Dere kan kjøre denne koden et par ganger til dere finner en baneform dere liker. Når dere har gjort dette er det viktig at dere skriver ned koordinatene til festepunktene! Disse blir generert på nytt hver gang koden blir kjørt. Husk at dere skal sette opp banen fysisk neste økt.\n",
    "    "
   ]
  },
  {
   "cell_type": "markdown",
   "metadata": {
    "id": "nFo0yc29mD6M"
   },
   "source": [
    "Vi begynner med å importere nyttige bibliotek"
   ]
  },
  {
   "cell_type": "code",
   "execution_count": null,
   "metadata": {
    "id": "AqFawUiVl6kA"
   },
   "outputs": [],
   "source": [
    "import matplotlib.pyplot as plt\n",
    "import numpy as np\n",
    "from scipy.interpolate import CubicSpline"
   ]
  },
  {
   "cell_type": "markdown",
   "metadata": {
    "id": "KBcxwA4UmJ_y"
   },
   "source": [
    "Vi lager en array som inneholder x-koordinatene til festepunktene. Horisontal avstand mellom festepunktene er 0.200 m."
   ]
  },
  {
   "cell_type": "code",
   "execution_count": null,
   "metadata": {
    "id": "ISFJJUpBmNfx"
   },
   "outputs": [],
   "source": [
    "h = 0.200\n",
    "xfast=np.asarray([0,h,2*h,3*h,4*h,5*h,6*h,7*h])"
   ]
  },
  {
   "cell_type": "markdown",
   "metadata": {
    "id": "Te0qcrmFmWTh"
   },
   "source": [
    "Start, slutt og steglengde i x-rettning:"
   ]
  },
  {
   "cell_type": "code",
   "execution_count": null,
   "metadata": {
    "id": "sgxwH4Ftmd8v"
   },
   "outputs": [],
   "source": [
    "xmin = 0.000\n",
    "xmax = 1.401\n",
    "dx = 0.001"
   ]
  },
  {
   "cell_type": "markdown",
   "metadata": {
    "id": "kv2ct7SfmtGm"
   },
   "source": [
    "Vi genererer en array med høydekoordinatene til festepunktene. "
   ]
  },
  {
   "cell_type": "code",
   "execution_count": null,
   "metadata": {
    "id": "fzM3YUPom3ko"
   },
   "outputs": [],
   "source": [
    "ymax = 300\n",
    "# yfast: tabell med 8 heltall mellom 50 og 300 (mm); representerer\n",
    "# høyden i de 8 festepunktene\n",
    "yfast=np.asarray(np.random.randint(50, ymax, size=8))\n",
    "#konverter fra m til mm\n",
    "yfast =yfast/1000\n",
    "# inttan: tabell med 7 verdier for (yfast[n+1]-yfast[n])/h (n=0..7); dvs\n",
    "# banens stigningstall beregnet med utgangspunkt i de 8 festepunktene.\n",
    "inttan = np.diff(yfast)/h\n",
    "attempts=1\n",
    "# while-løkken sjekker om en eller flere av de 3 betingelsene ovenfor\n",
    "# ikke er tilfredsstilt; i så fall velges nye festepunkter inntil\n",
    "# de 3 betingelsene er oppfylt\n",
    "yfast = [0.293, 0.249, 0.189, 0.222, 0.197, 0.159, 0.153, 0.136]\n",
    "\n",
    "\n",
    "\n",
    "\n",
    "# Omregning fra mm til m:\n",
    "# xfast = xfast/1000\n",
    "# yfast = yfast/1000\n",
    "\n",
    "# Når programmet her har avsluttet while-løkka, betyr det at\n",
    "# tallverdiene i tabellen yfast vil resultere i en tilfredsstillende bane. \n"
   ]
  },
  {
   "cell_type": "markdown",
   "metadata": {
    "id": "VNQ7mHaznCQ5"
   },
   "source": [
    "Programmet beregner deretter 7 tredjegradspolynomer, et for hvert intervall mellom to nabofestepunkter. Med scipy.interpolate-funksjonen CubicSpline:"
   ]
  },
  {
   "cell_type": "code",
   "execution_count": null,
   "metadata": {
    "id": "eU6gr2kJnVbg"
   },
   "outputs": [],
   "source": [
    "cs = CubicSpline(xfast, yfast, bc_type='natural')\n",
    "\n",
    "xmin = 0.000\n",
    "xmax = 1.401\n",
    "dx = 0.001"
   ]
  },
  {
   "cell_type": "markdown",
   "metadata": {
    "id": "1zXB7-Q51vD3"
   },
   "source": [
    "Funksjonen cs kan nå brukes til å regne ut $y(x)$, $y'(x)$ og $y''(x)$ for en vilkårlig horisontal posisjon x, eventuelt for mange horisontale posisjoner lagret i en tabell: <br>\n",
    "`cs(x)`   tilsvarer $y(x)$<br>\n",
    "`cs(x,1)` tilsvarer $y'(x)$<br>\n",
    "`cs(x,2)` tilsvarer $y''(x)$<br>\n",
    "\n",
    "<br>\n",
    "Vi vil ha en tetter diskretisering av x og y. Her lager vi en tabell med x-verdier mellom 0 og 1.4 m"
   ]
  },
  {
   "cell_type": "code",
   "execution_count": null,
   "metadata": {
    "id": "r2oeceds1wLl"
   },
   "outputs": [],
   "source": [
    "x = np.arange(xmin, xmax, dx) "
   ]
  },
  {
   "cell_type": "markdown",
   "metadata": {
    "id": "yQ4ePAbznZsV"
   },
   "source": [
    "Funksjonen arange returnerer verdier på det \"halvåpne\" intervallet\n",
    "`[xmin,xmax)`, dvs slik at xmin er med mens xmax ikke er med. Her blir\n",
    "dermed `x[0]=xmin=0.000`, `x[1]=xmin+1*dx=0.001`, ..., `x[1400]=xmax-dx=1.400`, \n",
    "dvs x blir en tabell med 1401 elementer\n",
    "<br>\n",
    "\n",
    "<par> Vi lager arrays for $y$, $y'$ og $y''$ -- også med 1401 elementer. </par>"
   ]
  },
  {
   "cell_type": "code",
   "execution_count": null,
   "metadata": {
    "id": "ruU35FUmnnn9"
   },
   "outputs": [],
   "source": [
    "Nx = len(x)\n",
    "y = cs(x)       #y=tabell med 1401 verdier for y(x)\n",
    "dy = cs(x,1)    #dy=tabell med 1401 verdier for y'(x)\n",
    "d2y = cs(x,2)   #d2y=tabell med 1401 verdier for y''(x)\n",
    "# type(d2y)"
   ]
  },
  {
   "cell_type": "markdown",
   "metadata": {
    "id": "RGuzfOQpoeqM"
   },
   "source": [
    "Nå kan vi plotte baneformen $y(x)$"
   ]
  },
  {
   "cell_type": "code",
   "execution_count": null,
   "metadata": {
    "colab": {
     "base_uri": "https://localhost:8080/",
     "height": 415
    },
    "id": "YwenKb4ok0iB",
    "outputId": "946804ce-3756-4d92-e4ab-5bc1cf179e1e"
   },
   "outputs": [],
   "source": [
    "baneform = plt.figure('y(x)',figsize=(12,6))\n",
    "plt.plot(x,y,xfast,yfast,'*')\n",
    "plt.title('Banens form')\n",
    "plt.xlabel('$x$ (m)',fontsize=20)\n",
    "plt.ylabel('$y(x)$ (m)',fontsize=20)\n",
    "plt.grid()\n",
    "plt.show()"
   ]
  },
  {
   "cell_type": "markdown",
   "metadata": {
    "id": "DhHAPUzAoya3"
   },
   "source": [
    "Denne koden kan nå utvides til å regne ut flere interessante størelser =) "
   ]
  },
  {
   "cell_type": "code",
   "execution_count": null,
   "metadata": {
    "id": "4BLO0pLQoXTj"
   },
   "outputs": [],
   "source": [
    "gravity = 9.81\n",
    "c = 2/5 # c=2/5 for en kule\n",
    "masse = 0.031 # kg for kulen\n",
    "radius = 0.011 # m for kulen\n",
    "# y[0] # starthøyde\n",
    "\n",
    "\n",
    "\n",
    "def v_y(y_num):\n",
    "    return np.sqrt((2*gravity*(y[0]-y[y_num])) / (1+c))\n",
    "\n",
    "def v_x():\n",
    "    # cs(x) returns y(x)\n",
    "    return np.sqrt((2*gravity*(y[0]-y)) / (1+c))\n",
    "    # return np.sqrt((2*gravity*(y[0]-cs(x))) / (1+c))\n",
    "\n",
    "def v():\n",
    "    return np.sqrt((10*gravity*(y[0]-y)) / 7)\n",
    "\n",
    "\n",
    "def krumning():\n",
    "    # returnerer krumningsradiusen til banen i punktet x\n",
    "    return d2y / (1 + dy**2)**(3/2)\n",
    "\n",
    "def sentripetalakselerasjon():\n",
    "    # returnerer sentripetalakselerasjonen til banen i punktet x\n",
    "    return (v_x()**2) * krumning()\n",
    "\n",
    "def helningsvinkel():\n",
    "    # returnerer helningsvinkelen til banen i punktet x\n",
    "    return np.arctan(dy)\n",
    "\n",
    "def friksjonskraft():\n",
    "    # returnerer friksjonskraften til banen i punktet x\n",
    "    return masse * gravity * np.sin(helningsvinkel())\n",
    "\n",
    "def normalkraft():\n",
    "    # returnerer normalkraften til banen i punktet x\n",
    "    return masse * (gravity * np.cos(helningsvinkel() + krumning()))\n",
    "\n",
    "\n",
    "def statiskFriksjonskoeffisient():\n",
    "    # returnerer friksjonskoeffisienten til banen i punktet x\n",
    "    return 2*masse*gravity*np.sin(helningsvinkel()) / 7\n",
    "\n",
    "def sluttfart():\n",
    "    # returnerer sluttfarten til banen i punktet x\n",
    "    return v()[-1]\n",
    "\n",
    "\n",
    "def eulersmethod_x():\n",
    "    # returnerer en tabell med 1401 verdier for y(x)\n",
    "    t_n = np.zeros(Nx)\n",
    "    \n",
    "    for i in range(1, Nx):\n",
    "        t_n[i] = t_n[i-1] + (2 * dx) / (v_x()[i-1] + v_x()[i])\n",
    "    return t_n\n",
    "\n",
    "\n"
   ]
  },
  {
   "cell_type": "code",
   "execution_count": null,
   "metadata": {},
   "outputs": [],
   "source": [
    "def plot(figName, figTitle, xLabel, yLabel, x_values, y_values, graphLabel=\"\"):\n",
    "    figName = plt.figure()\n",
    "    plt.plot(x_values, y_values, label= graphLabel)\n",
    "    plt.title(figTitle)\n",
    "    plt.xlabel(xLabel)\n",
    "    plt.ylabel(yLabel)\n",
    "    plt.legend()\n",
    "    plt.grid()\n",
    "    plt.show()\n",
    "\n",
    "\n",
    "figHastighet = plt.figure('v(x)')\n",
    "plt.title('Hastighet')\n",
    "plt.plot(x, v(), label='v(x)')\n",
    "plt.xlabel('$x$ (m)',fontsize=20)\n",
    "plt.ylabel('$v(x)$ (m/s)',fontsize=20)\n",
    "plt.grid()\n",
    "plt.legend()\n",
    "plt.show()"
   ]
  },
  {
   "cell_type": "code",
   "execution_count": null,
   "metadata": {},
   "outputs": [],
   "source": [
    "plot(\"krumning\", \"Krumning\", \"$x$ (m)\", \"$krumning(x)$ (1/m)\", x, krumning(), \"K(x)\")"
   ]
  },
  {
   "cell_type": "code",
   "execution_count": null,
   "metadata": {},
   "outputs": [],
   "source": [
    "plot(\"Posisjon og tid\", \"Posisjon og tid\", \"$t$ (s)\", \"$x(t)$ (m)\", eulersmethod_x(), x, \"x(t)\")"
   ]
  },
  {
   "cell_type": "code",
   "execution_count": null,
   "metadata": {},
   "outputs": [],
   "source": [
    "plot(\"Fart og tid\", \"Fart og tid\", \"$t$ (s)\", \"$v(t)$ (m/s)\", eulersmethod_x(), v_x(), \"v(t)\")"
   ]
  },
  {
   "cell_type": "code",
   "execution_count": null,
   "metadata": {},
   "outputs": [],
   "source": [
    "#plot(\"Fart og tid\", \"Fart og tid\", \"$t$ (s)\", \"$v(t)$ (m/s)\", x, normalkraft(), \"v(t)\")"
   ]
  },
  {
   "cell_type": "code",
   "execution_count": null,
   "metadata": {},
   "outputs": [],
   "source": [
    "\n",
    "def conv(x):\n",
    "    return x.replace(\",\", \".\").encode()\n",
    "\n",
    "#data = [t,x,y,v]. For å få t -> data[:,0] osv\n",
    "def getData(filename):\n",
    "    # Returnerer en matrise med data fra filen.\n",
    "    # Hvor kolonnene er tid, x-pos, y-pos, og velocity\n",
    "    # data = [t, x, y, v]. For å få y -> data[:,2], for å få x -> data[:,1]\n",
    "    return np.genfromtxt((conv(x) for x in open(filename)), dtype=float, skip_header=2, delimiter=\"\\t\", usemask=True)"
   ]
  },
  {
   "cell_type": "code",
   "execution_count": null,
   "metadata": {},
   "outputs": [],
   "source": [
    "# def plotMultiple(x, y, xlabel, ylabel, title, options ='', label=''):\n",
    "#     plt.figure(title, figsize = (8,5))\n",
    "#     #assert len(x) == len(y)\n",
    "#     if isinstance(x[0], (list, tuple, np.ndarray)):\n",
    "#         for i in range(len(x)):\n",
    "#             alp = 1\n",
    "#             if i != 0:\n",
    "#                 alp = 0.3\n",
    "#             if isinstance(options, (list, tuple, np.ndarray)):\n",
    "#                 plt.plot(x[i], y[i], options[i], label = label[i], alp = alp)\n",
    "#             else:\n",
    "#                 plt.plot(x[i], y[i], options, label = label[i], alp = alp)\n",
    "#         plt.legend(loc = \"upper left\")\n",
    "#     else:\n",
    "#         plt.plot(x, y, options, label = label)\n",
    "#         plt.legend(loc = \"upper left\")\n",
    "#     plt.title(title)\n",
    "#     plt.xlabel(xlabel, fontsize = 16)\n",
    "#     plt.ylabel(ylabel, fontsize = 16)\n",
    "#     plt.grid()\n",
    "#     plt.show() \n",
    "\n",
    "# v_values = list()\n",
    "\n",
    "# for i in range(1,11):\n",
    "#     data = getData(f\"baneverdier{i}.txt\")\n",
    "\n",
    "#     t_expr = data[:,0]\n",
    "#     x_expr = data[:,1]\n",
    "#     y_expr = data[:,2]\n",
    "#     v_expr = data[:,3]\n",
    "\n",
    "#     #idx = np.isfinite(t_expr & np.isfinite(v_expr))\n",
    "#     v_values.append(v_expr)\n",
    "\n",
    "# plotMultiple(x_expr, v_values, \"t (s)\", \"v() (m/s)\", \"Fart\", options ='', label = \"test\")"
   ]
  },
  {
   "cell_type": "code",
   "execution_count": null,
   "metadata": {},
   "outputs": [],
   "source": [
    "plt.figure(\"Tittel\", figsize = (8,5))\n",
    "plt.plot(eulersmethod_x(), v_x(), label = \"Predikert\")\n",
    "\n",
    "gj_v = 0\n",
    "for i in range(1,11):\n",
    "    data = getData(f\"baneverdier{i}.txt\")\n",
    "\n",
    "    t_expr = data[:,0]\n",
    "    x_expr = data[:,1]\n",
    "    y_expr = data[:,2]\n",
    "    v_expr = data[:,3]\n",
    "\n",
    "    #Summen av alle sluttfartene\n",
    "    gj_v += v_expr[-2]\n",
    "\n",
    "    plt.plot(t_expr, v_expr, label = f\"Eksperiment {i}\", alpha = 0.3)\n",
    "    plt.legend(loc = \"upper left\")\n",
    "plt.title(\"Hastighet\")\n",
    "plt.xlabel(\"t (s)\", fontsize = 12)\n",
    "plt.ylabel(\"v(t) (m/s)\", fontsize = 12)\n",
    "plt.grid()\n",
    "plt.show()\n",
    "\n",
    "gj_v = gj_v/10\n",
    "\n",
    "print(f\"Prediktert slutthastighet er: {v_x()[-1]} m/s \\nEksperimentell slutthastighet er {gj_v} m/s\")\n",
    "print(f\"Dette tilsvarer en feil på {(1-gj_v/v_x()[-1])*100}%\")"
   ]
  },
  {
   "cell_type": "code",
   "execution_count": null,
   "metadata": {},
   "outputs": [],
   "source": [
    "N = 10\n",
    "#Kinetisk energi\n",
    "avg_E_k = 1/2 * masse * gj_v**2\n",
    "print(f\"Gjennomsnittlig kinetisk energi er {round(avg_E_k, 5)} J\")\n",
    "\n",
    "#Standardavvik\n",
    "temp = 0\n",
    "for i in range(1,11):\n",
    "    data = getData(f\"baneverdier{i}.txt\")\n",
    "\n",
    "    v_expr = data[:,3]\n",
    "\n",
    "    temp += (v_expr[-2]-gj_v)**2\n",
    "\n",
    "s = np.sqrt(1/(N-1)*temp)\n",
    "\n",
    "print(f'Standardavvik: {round(s, 5)}')\n",
    "    \n",
    "#Standardfeil\n",
    "s_feil = s/np.sqrt(N)\n",
    "print(f'Standardfeil: {round(s_feil, 5)}')\n"
   ]
  }
 ],
 "metadata": {
  "colab": {
   "collapsed_sections": [],
   "name": "TFY41xx Fysikk våren 2021.ipynb",
   "provenance": []
  },
  "kernelspec": {
   "display_name": "Python 3.10.0 64-bit",
   "language": "python",
   "name": "python3"
  },
  "language_info": {
   "codemirror_mode": {
    "name": "ipython",
    "version": 3
   },
   "file_extension": ".py",
   "mimetype": "text/x-python",
   "name": "python",
   "nbconvert_exporter": "python",
   "pygments_lexer": "ipython3",
   "version": "3.10.0"
  },
  "vscode": {
   "interpreter": {
    "hash": "15f7fb6bfa40f6d98bec429272306fda6b1744d745c4cccbf28593f1f78abeba"
   }
  }
 },
 "nbformat": 4,
 "nbformat_minor": 1
}
